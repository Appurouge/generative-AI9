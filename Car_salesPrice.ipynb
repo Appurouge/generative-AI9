{
  "cells": [
    {
      "cell_type": "code",
      "execution_count": null,
      "metadata": {
        "colab": {
          "base_uri": "https://localhost:8080/",
          "height": 716
        },
        "id": "LJ9G_rW4iSO7",
        "outputId": "ac200553-9616-4f65-ea31-9aa46afb1e39"
      },
      "outputs": [],
      "source": [
        "import numpy as np\n",
        "import pandas as pd\n",
        "import matplotlib.pyplot as plt\n",
        "from sklearn.preprocessing import MinMaxScaler\n",
        "\n",
        "from tensorflow.keras.layers import Dense\n",
        "from tensorflow.keras.models import Sequential\n",
        "from sklearn.model_selection import train_test_split\n",
        "\n",
        "import warnings\n",
        "warnings.filterwarnings(\"ignore\")\n",
        "df = pd.read_csv('/content/car_purchasing.csv', encoding='ISO-8859-1')\n",
        "df\n",
        "df.isna().sum()\n",
        "df.drop(columns=['customer name', 'customer e-mail', 'country', 'gender'], inplace=True)\n",
        "features=df.drop('car purchase amount',axis=1)\n",
        "target=df['car purchase amount']\n",
        "import seaborn as sns\n",
        "corr = df.corr()\n",
        "\n",
        "plt.figure(figsize=(10, 8))\n",
        "sns.heatmap(corr, annot=True, cmap='coolwarm', vmin=-1, vmax=1)\n",
        "plt.title('Correlation Matrix')\n",
        "plt.show()\n",
        "from sklearn.preprocessing import StandardScaler\n",
        "scaler = StandardScaler()\n",
        "scaled_features = scaler.fit_transform(features)\n",
        "target_reshaped = target.values.reshape(-1, 1)\n",
        "scaled_target = scaler.fit_transform(target_reshaped)\n",
        "x_train,x_test,y_train,y_test=train_test_split(scaled_features,scaled_target,test_size=.2,random_state=42)\n",
        "from sklearn.linear_model import LinearRegression\n",
        "from sklearn.metrics import r2_score\n",
        "model = LinearRegression()\n",
        "\n",
        "model.fit(x_train, y_train)\n",
        "\n",
        "y_pred = model.predict(x_test)\n",
        "\n",
        "y_pred_original = scaler.inverse_transform(y_pred)\n",
        "\n",
        "r2 = r2_score(scaler.inverse_transform(y_test), y_pred_original)\n",
        "print(\"R2 Score:\", r2)"
      ]
    }
  ],
  "metadata": {
    "colab": {
      "provenance": []
    },
    "kernelspec": {
      "display_name": "Python 3",
      "name": "python3"
    },
    "language_info": {
      "name": "python"
    }
  },
  "nbformat": 4,
  "nbformat_minor": 0
}
